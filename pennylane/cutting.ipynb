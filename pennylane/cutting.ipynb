{
 "cells": [
  {
   "cell_type": "markdown",
   "metadata": {},
   "source": [
    "# Pennylane manual circuit cutting\n",
    "\n",
    "Experiments with Pennylane manual circuit cutting toolbox."
   ]
  },
  {
   "cell_type": "code",
   "execution_count": 34,
   "metadata": {},
   "outputs": [],
   "source": [
    "from functools import partial\n",
    "import pennylane as qml\n",
    "from pennylane import numpy as np"
   ]
  },
  {
   "cell_type": "markdown",
   "metadata": {},
   "source": [
    "Let's define a 3-qubit device and a sample input."
   ]
  },
  {
   "cell_type": "code",
   "execution_count": 35,
   "metadata": {},
   "outputs": [
    {
     "data": {
      "text/plain": [
       "tensor(0.531, requires_grad=True)"
      ]
     },
     "execution_count": 35,
     "metadata": {},
     "output_type": "execute_result"
    }
   ],
   "source": [
    "dev = qml.device(\"default.qubit\", wires=3)\n",
    "x = np.array(0.531, requires_grad=True)\n",
    "x"
   ]
  },
  {
   "cell_type": "markdown",
   "metadata": {},
   "source": [
    "## Whole circuit"
   ]
  },
  {
   "cell_type": "code",
   "execution_count": 42,
   "metadata": {},
   "outputs": [
    {
     "name": "stdout",
     "output_type": "stream",
     "text": [
      "0: ──RX(0.53)─╭●──RY(-0.40)─┤ ╭<Z@Z@Z>\n",
      "1: ──RY(0.90)─╰Z─╭●─────────┤ ├<Z@Z@Z>\n",
      "2: ──RX(0.30)────╰Z─────────┤ ╰<Z@Z@Z>\n"
     ]
    },
    {
     "data": {
      "image/png": "[encoded data removed]",
      "text/plain": [
       "<Figure size 600x400 with 1 Axes>"
      ]
     },
     "metadata": {},
     "output_type": "display_data"
    }
   ],
   "source": [
    "@qml.qnode(dev)\n",
    "def circuit_without_cut(x):\n",
    "    qml.RX(x, wires=0)\n",
    "    qml.RY(0.9, wires=1)\n",
    "    qml.RX(0.3, wires=2)\n",
    "\n",
    "    qml.CZ(wires=[0, 1])\n",
    "    qml.RY(-0.4, wires=0)\n",
    "\n",
    "    qml.CZ(wires=[1, 2])\n",
    "\n",
    "    return qml.expval(qml.pauli.string_to_pauli_word(\"ZZZ\"))\n",
    "\n",
    "print(qml.draw(circuit_without_cut)(x))\n",
    "fig, ax = qml.draw_mpl(circuit_without_cut)(x)"
   ]
  },
  {
   "cell_type": "markdown",
   "metadata": {},
   "source": [
    "## Cut circuit"
   ]
  },
  {
   "cell_type": "code",
   "execution_count": 49,
   "metadata": {},
   "outputs": [
    {
     "name": "stdout",
     "output_type": "stream",
     "text": [
      "TAPES: 7\n",
      "0: ──RX(0.53)─╭●──RY(-0.40)─┤ ╭<Z@I> ╭<Z@Z>\n",
      "1: ──RY(0.90)─╰Z────────────┤ ╰<Z@I> ╰<Z@Z>\n",
      "\n",
      "0: ──RX(0.53)─╭●──RY(-0.40)─┤ ╭<Z@X>\n",
      "1: ──RY(0.90)─╰Z────────────┤ ╰<Z@X>\n",
      "\n",
      "0: ──RX(0.53)─╭●──RY(-0.40)─┤ ╭<Z@Y>\n",
      "1: ──RY(0.90)─╰Z────────────┤ ╰<Z@Y>\n",
      "\n",
      "0: ──RX(0.30)─╭Z─┤ ╭<Z@Z>\n",
      "1: ──I────────╰●─┤ ╰<Z@Z>\n",
      "\n",
      "0: ──RX(0.30)─╭Z─┤ ╭<Z@Z>\n",
      "1: ──X────────╰●─┤ ╰<Z@Z>\n",
      "\n",
      "0: ──RX(0.30)─╭Z─┤ ╭<Z@Z>\n",
      "1: ──H────────╰●─┤ ╰<Z@Z>\n",
      "\n",
      "0: ──RX(0.30)────╭Z─┤ ╭<Z@Z>\n",
      "1: ──H─────────S─╰●─┤ ╰<Z@Z>\n",
      "<QuantumScript: wires=[0, 1], params=3>\n",
      "__class__\n",
      "__copy__\n",
      "__delattr__\n",
      "__dict__\n",
      "__dir__\n",
      "__doc__\n",
      "__eq__\n",
      "__format__\n",
      "__ge__\n",
      "__getattribute__\n",
      "__getitem__\n",
      "__getstate__\n",
      "__gt__\n",
      "__hash__\n",
      "__init__\n",
      "__init_subclass__\n",
      "__iter__\n",
      "__le__\n",
      "__len__\n",
      "__lt__\n",
      "__module__\n",
      "__ne__\n",
      "__new__\n",
      "__reduce__\n",
      "__reduce_ex__\n",
      "__repr__\n",
      "__setattr__\n",
      "__sizeof__\n",
      "__str__\n",
      "__subclasshook__\n",
      "__weakref__\n",
      "_batch_size\n",
      "_flatten\n",
      "_graph\n",
      "_measurements\n",
      "_obs_sharing_wires\n",
      "_obs_sharing_wires_id\n",
      "_ops\n",
      "_output_dim\n",
      "_shots\n",
      "_specs\n",
      "_trainable_params\n",
      "_unflatten\n",
      "_update\n",
      "_update_batch_size\n",
      "_update_observables\n",
      "_update_output_dim\n",
      "adjoint\n",
      "batch_size\n",
      "bind_new_parameters\n",
      "circuit\n",
      "copy\n",
      "data\n",
      "diagonalizing_gates\n",
      "draw\n",
      "expand\n",
      "from_queue\n",
      "get_operation\n",
      "get_parameters\n",
      "graph\n",
      "hash\n",
      "interface\n",
      "map_to_standard_wires\n",
      "measurements\n",
      "num_params\n",
      "num_preps\n",
      "num_wires\n",
      "numeric_type\n",
      "obs_sharing_wires\n",
      "obs_sharing_wires_id\n",
      "observables\n",
      "op_wires\n",
      "operations\n",
      "output_dim\n",
      "par_info\n",
      "samples_computational_basis\n",
      "shape\n",
      "shots\n",
      "specs\n",
      "to_openqasm\n",
      "trainable_params\n",
      "wires\n"
     ]
    }
   ],
   "source": [
    "@qml.cut_circuit  # Applying qml.cut_circuit for circuit cut operation\n",
    "@qml.qnode(dev)\n",
    "def circuit_cut(x):\n",
    "    qml.RX(x, wires=0)\n",
    "    qml.RY(0.9, wires=1)\n",
    "    qml.RX(0.3, wires=2)\n",
    "\n",
    "    qml.CZ(wires=[0, 1])\n",
    "    qml.RY(-0.4, wires=0)\n",
    "\n",
    "    qml.WireCut(wires=1)  # Cut location\n",
    "\n",
    "    qml.CZ(wires=[1, 2])\n",
    "\n",
    "    return qml.expval(qml.pauli.string_to_pauli_word(\"ZZZ\"))\n",
    "\n",
    "tapes, _ = qml.workflow.construct_batch(circuit_cut)(x)\n",
    "print(\"TAPES:\", len(tapes))\n",
    "fig = qml.draw(circuit_cut)(x)\n",
    "print(fig)\n",
    "print(tapes[0])\n",
    "print(\"\\n\".join(dir(tapes[0])))\n"
   ]
  },
  {
   "cell_type": "markdown",
   "metadata": {},
   "source": [
    "## Running the circuits"
   ]
  },
  {
   "cell_type": "code",
   "execution_count": 38,
   "metadata": {},
   "outputs": [
    {
     "data": {
      "text/plain": [
       "tensor(0.47165199, requires_grad=True)"
      ]
     },
     "execution_count": 38,
     "metadata": {},
     "output_type": "execute_result"
    }
   ],
   "source": [
    "circuit_without_cut(x)"
   ]
  },
  {
   "cell_type": "code",
   "execution_count": 39,
   "metadata": {},
   "outputs": [
    {
     "data": {
      "text/plain": [
       "0.47165198882111165"
      ]
     },
     "execution_count": 39,
     "metadata": {},
     "output_type": "execute_result"
    }
   ],
   "source": [
    "circuit_cut(x)"
   ]
  }
 ],
 "metadata": {
  "kernelspec": {
   "display_name": "venv",
   "language": "python",
   "name": "python3"
  },
  "language_info": {
   "codemirror_mode": {
    "name": "ipython",
    "version": 3
   },
   "file_extension": ".py",
   "mimetype": "text/x-python",
   "name": "python",
   "nbconvert_exporter": "python",
   "pygments_lexer": "ipython3",
   "version": "3.12.3"
  }
 },
 "nbformat": 4,
 "nbformat_minor": 2
}
